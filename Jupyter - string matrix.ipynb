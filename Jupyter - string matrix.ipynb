{
 "cells": [
  {
   "cell_type": "markdown",
   "metadata": {},
   "source": [
    "# Vibration of clipped strings in the bundengan musical instrument\n",
    "\n",
    "Gea O.F. Parikesit, Indraswari Kusumaningtyas (2019), \"Vibration of clipped strings in the bundengan musical instrument\", Applied Acoustics, Volume 155, Number 1, page 204-215."
   ]
  },
  {
   "cell_type": "code",
   "execution_count": null,
   "metadata": {},
   "outputs": [],
   "source": [
    "n=1001; # number of masses along the string\n",
    "\n",
    "L=0.2; # the length of the string (in m)\n",
    "dL=L/(n); # the horizontal distance (in m) between the neighbouring masses\n",
    "rho=0.0005; # the string linear density is 0.0005 kg/m\n",
    "m=dL*rho; # mass (in kg) of the masses along the string\n",
    "T=20; # a uniform tension force (in N) along the string"
   ]
  },
  {
   "cell_type": "code",
   "execution_count": null,
   "metadata": {},
   "outputs": [],
   "source": [
    "M=zeros(n, n); # the mass matrix\n",
    "for i=1:n\n",
    "    M[i,i]=m;\n",
    "end"
   ]
  },
  {
   "cell_type": "code",
   "execution_count": null,
   "metadata": {},
   "outputs": [],
   "source": [
    "Mb=500;\n",
    "xb=0.06;\n",
    "# M(round(xb/L*n),round(xb/L*n))=Mb*m; # 1st bandulan at xb m\n",
    "# M(round((L-xb)/L*n),round((L-xb)/L*n))=Mb*m; # 2nd bandulan at (L-xb) m"
   ]
  },
  {
   "cell_type": "code",
   "execution_count": null,
   "metadata": {},
   "outputs": [],
   "source": [
    "K=zeros(n, n); # the stiffness matrix\n",
    "for i=1:n\n",
    "    K[i,i]=(-T/dL*(-2));\n",
    "end\n",
    "for i=1:(n-1)\n",
    "    K[i,i+1]=(-T/dL*(1));\n",
    "end\n",
    "for i=(1+1):n\n",
    "    K[i,i-1]=(-T/dL*(1));\n",
    "end"
   ]
  },
  {
   "cell_type": "code",
   "execution_count": null,
   "metadata": {},
   "outputs": [],
   "source": [
    "omega_sq=inv(M)*K; # omega^2"
   ]
  },
  {
   "cell_type": "code",
   "execution_count": null,
   "metadata": {},
   "outputs": [],
   "source": [
    "using LinearAlgebra"
   ]
  },
  {
   "cell_type": "code",
   "execution_count": null,
   "metadata": {},
   "outputs": [],
   "source": [
    "eig=eigen(omega_sq);\n",
    "eigval=eig.values;\n",
    "eigvec=eig.vectors;"
   ]
  },
  {
   "cell_type": "code",
   "execution_count": null,
   "metadata": {},
   "outputs": [],
   "source": [
    "omega=zeros(size(eigval,1),1);\n",
    "f=zeros(size(eigval,1),1);\n",
    "for i=1:size(eigval,1)\n",
    "    omega[i,1]=sqrt(eigval[i]);\n",
    "    f[i,1]=omega[i,1]/(2*pi);\n",
    "    # nice, the freqs are already sorted in f\n",
    "end"
   ]
  },
  {
   "cell_type": "code",
   "execution_count": null,
   "metadata": {},
   "outputs": [],
   "source": [
    "using Plots"
   ]
  },
  {
   "cell_type": "code",
   "execution_count": null,
   "metadata": {},
   "outputs": [],
   "source": [
    "S=5; # number of modes to analyze\n",
    "plot(eigvec[:,1:S])\n",
    "display(plot(eigvec[:,1:S])\n",
    "savefig(\"ModeShapes\")"
   ]
  },
  {
   "cell_type": "code",
   "execution_count": null,
   "metadata": {},
   "outputs": [],
   "source": [
    "Px=Int(round(0.03/0.20*n)); # plucking location (in m) at the centre of the string\n",
    "Py=-0.005; # plucking amplitude (in m)\n",
    "x0=zeros(n,1);\n",
    "x0[Px,1]=Py; # at the plucking point\n",
    "for i=1:(Px-1)\n",
    "    x0[i,1]=((x0[Px,1]-0)/(Px-1))*(i-1); # at the left side of the plucking point\n",
    "end\n",
    "for i=(Px+1):n\n",
    "    x0[i,1]=x0[Px,1]+(0-(x0[Px,1])/(n-Px))*(i-Px); # at the right side of the plucking point\n",
    "end"
   ]
  },
  {
   "cell_type": "code",
   "execution_count": null,
   "metadata": {},
   "outputs": [],
   "source": [
    "gam=inv(eigvec)*x0; #= the matrix of mode coefficients\n",
    "The equation of motion, for each mode, is given by:\n",
    "x=v*g*cos(omega*t)\n",
    "So, for example, if we want to plot the motion dynamics for the first 20 sec\n",
    "then we use t=0:0.2:20;=#"
   ]
  },
  {
   "cell_type": "code",
   "execution_count": null,
   "metadata": {},
   "outputs": [],
   "source": [
    "# Let us now plot the frequency spectrum\n",
    "absgam=zeros(size(gam,1),1);\n",
    "for i=1:size(gam,1)\n",
    "    absgam[i,1]=abs(gam[i,1]);\n",
    "end\n",
    "plot(f,absgam)\n",
    "display(plot(f,absgam))\n",
    "savefig(\"Spectrum\")"
   ]
  },
  {
   "cell_type": "code",
   "execution_count": null,
   "metadata": {},
   "outputs": [],
   "source": [
    "#We could now calculate and plot the equation of motion for all modes\n",
    "dt=0.0001; # avoid under-sampling! dt must be small enough to capture max freq\n",
    "t_start=0.000;\n",
    "t_end=0.010;\n",
    "t=zeros(1,Int(((t_end-t_start)/dt)+1));\n",
    "t[1,1]=t_start;\n",
    "t[1,Int(((t_end-t_start)/dt)+1)]=t_end;\n",
    "for i=2:(size(t,2)-1)\n",
    "    t[1,i]=t[1,1]+dt*i;\n",
    "end\n",
    "sqgam=zeros(n,n);\n",
    "for i=1:n\n",
    "    sqgam[i,i]=gam[i,1];\n",
    "end\n",
    "wave=omega*t;\n",
    "for i=1:size(wave,1)\n",
    "    for j=1:size(wave,2)\n",
    "        wave(i,j)=cos(wave(i,j))\n",
    "    end\n",
    "end\n",
    "x=eigvec*sqgam*wave; # size of x is (# of nodes in the string) x (# of time steps)"
   ]
  }
 ],
 "metadata": {
  "kernelspec": {
   "display_name": "Julia 1.1.1",
   "language": "julia",
   "name": "julia-1.1"
  },
  "language_info": {
   "file_extension": ".jl",
   "mimetype": "application/julia",
   "name": "julia",
   "version": "1.1.1"
  }
 },
 "nbformat": 4,
 "nbformat_minor": 2
}
